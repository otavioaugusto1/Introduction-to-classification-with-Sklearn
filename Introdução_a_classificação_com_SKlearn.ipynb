{
  "nbformat": 4,
  "nbformat_minor": 0,
  "metadata": {
    "colab": {
      "name": "Introdução a classificação com SKlearn.ipynb",
      "provenance": [],
      "collapsed_sections": [],
      "authorship_tag": "ABX9TyNMrsmzGAU5pZXfjt7tslyu",
      "include_colab_link": true
    },
    "kernelspec": {
      "name": "python3",
      "display_name": "Python 3"
    }
  },
  "cells": [
    {
      "cell_type": "markdown",
      "metadata": {
        "id": "view-in-github",
        "colab_type": "text"
      },
      "source": [
        "<a href=\"https://colab.research.google.com/github/otavioaugusto1/Introduction-to-classification-with-Sklearn/blob/master/Introdu%C3%A7%C3%A3o_a_classifica%C3%A7%C3%A3o_com_SKlearn.ipynb\" target=\"_parent\"><img src=\"https://colab.research.google.com/assets/colab-badge.svg\" alt=\"Open In Colab\"/></a>"
      ]
    },
    {
      "cell_type": "markdown",
      "metadata": {
        "id": "wFyyWbRwVIsB"
      },
      "source": [
        "# Projeto 1: classificação de um animal\n",
        "(classificação entre porco ou cachorro) 0 ou 1.\n",
        "## Aprendizado supervisionado (previsão com algoritmos de classificação).\n",
        "\n",
        "## características a serem estudadas: pelo longo;perna curta e faz 'au au'."
      ]
    },
    {
      "cell_type": "code",
      "metadata": {
        "id": "O2GdGzFuVMo1"
      },
      "source": [
        "# pelo longo?\n",
        "#perna longa?\n",
        "# faz auau?\n",
        "porco1 = [0,1,0]\n",
        "porco2 = [0,1,1]\n",
        "porco3 = [1,1,0]\n",
        "cachorro1 = [0,1,1]\n",
        "cachorro2 = [1,0,1]\n",
        "cachorro3= [1,1,1]\n",
        "# 1 => porco ; 0 => cachorro \n",
        "treino_x = [porco1,porco2,porco3,cachorro1,cachorro2,cachorro3]\n",
        "treino_y = [1,1,1,0,0,0] # labels\n"
      ],
      "execution_count": null,
      "outputs": []
    },
    {
      "cell_type": "code",
      "metadata": {
        "id": "cwGQBNbog-Yz",
        "outputId": "502594f3-9f23-4e31-d5cf-4ab30a4c119f",
        "colab": {
          "base_uri": "https://localhost:8080/",
          "height": 85
        }
      },
      "source": [
        "from sklearn.svm import LinearSVC\n",
        "modelo = LinearSVC()\n",
        "modelo.fit(treino_x, treino_y)\n",
        "#no aprendizados supervisionado, tive q passar as classes"
      ],
      "execution_count": null,
      "outputs": [
        {
          "output_type": "execute_result",
          "data": {
            "text/plain": [
              "LinearSVC(C=1.0, class_weight=None, dual=True, fit_intercept=True,\n",
              "          intercept_scaling=1, loss='squared_hinge', max_iter=1000,\n",
              "          multi_class='ovr', penalty='l2', random_state=None, tol=0.0001,\n",
              "          verbose=0)"
            ]
          },
          "metadata": {
            "tags": []
          },
          "execution_count": 75
        }
      ]
    },
    {
      "cell_type": "code",
      "metadata": {
        "id": "lhUSCgIIi5nN",
        "outputId": "8023fdf8-896c-455d-cca3-77952a099be9",
        "colab": {
          "base_uri": "https://localhost:8080/",
          "height": 34
        }
      },
      "source": [
        "animal_misterioso = [1,1,1]\n",
        "modelo.predict([animal_misterioso])"
      ],
      "execution_count": null,
      "outputs": [
        {
          "output_type": "execute_result",
          "data": {
            "text/plain": [
              "array([0])"
            ]
          },
          "metadata": {
            "tags": []
          },
          "execution_count": 76
        }
      ]
    },
    {
      "cell_type": "code",
      "metadata": {
        "id": "vUhmCah5jb2k"
      },
      "source": [
        "misterio1 =[1,1,1]\n",
        "misterio2 = [1,1,0]\n",
        "misterio3 = [0,1,1]\n",
        "teste_x =[misterio1,misterio2,misterio3]\n",
        "modelo.predict(teste_x)\n",
        "teste_y = [0,1,1]\n",
        "previsoes = modelo.predict(teste_x)\n"
      ],
      "execution_count": null,
      "outputs": []
    },
    {
      "cell_type": "markdown",
      "metadata": {
        "id": "wlE5b0WfkFtp"
      },
      "source": [
        "## Taxa de acerto\n"
      ]
    },
    {
      "cell_type": "code",
      "metadata": {
        "id": "doLMENjzj1dT",
        "outputId": "afd1bdb8-af4a-46ea-d56e-6b329de7e652",
        "colab": {
          "base_uri": "https://localhost:8080/",
          "height": 34
        }
      },
      "source": [
        "# \"accuracy\"\n",
        "from sklearn.metrics import accuracy_score\n",
        "taxa_de_acerto = accuracy_score(teste_y,previsoes)\n",
        "print(\"Taxa de acerto: %.2f \" % (taxa_de_acerto * 100))"
      ],
      "execution_count": null,
      "outputs": [
        {
          "output_type": "stream",
          "text": [
            "Taxa de acerto: 66.67 \n"
          ],
          "name": "stdout"
        }
      ]
    },
    {
      "cell_type": "code",
      "metadata": {
        "id": "_skTzV62lO8I"
      },
      "source": [
        ""
      ],
      "execution_count": null,
      "outputs": []
    },
    {
      "cell_type": "markdown",
      "metadata": {
        "id": "-I1KZpnbqSnQ"
      },
      "source": [
        "# Projeto 2"
      ]
    },
    {
      "cell_type": "code",
      "metadata": {
        "id": "Hj_-KKZwqU-Z",
        "outputId": "c575010e-4fb2-4888-85bb-587d1c876aed",
        "colab": {
          "base_uri": "https://localhost:8080/",
          "height": 204
        }
      },
      "source": [
        "import pandas as pd\n",
        "\n",
        "dados = pd.read_csv(\"https://gist.githubusercontent.com/guilhermesilveira/2d2efa37d66b6c84a722ea627a897ced/raw/10968b997d885cbded1c92938c7a9912ba41c615/tracking.csv\")\n",
        "dados.head()"
      ],
      "execution_count": null,
      "outputs": [
        {
          "output_type": "execute_result",
          "data": {
            "text/html": [
              "<div>\n",
              "<style scoped>\n",
              "    .dataframe tbody tr th:only-of-type {\n",
              "        vertical-align: middle;\n",
              "    }\n",
              "\n",
              "    .dataframe tbody tr th {\n",
              "        vertical-align: top;\n",
              "    }\n",
              "\n",
              "    .dataframe thead th {\n",
              "        text-align: right;\n",
              "    }\n",
              "</style>\n",
              "<table border=\"1\" class=\"dataframe\">\n",
              "  <thead>\n",
              "    <tr style=\"text-align: right;\">\n",
              "      <th></th>\n",
              "      <th>home</th>\n",
              "      <th>how_it_works</th>\n",
              "      <th>contact</th>\n",
              "      <th>bought</th>\n",
              "    </tr>\n",
              "  </thead>\n",
              "  <tbody>\n",
              "    <tr>\n",
              "      <th>0</th>\n",
              "      <td>1</td>\n",
              "      <td>1</td>\n",
              "      <td>0</td>\n",
              "      <td>0</td>\n",
              "    </tr>\n",
              "    <tr>\n",
              "      <th>1</th>\n",
              "      <td>1</td>\n",
              "      <td>1</td>\n",
              "      <td>0</td>\n",
              "      <td>0</td>\n",
              "    </tr>\n",
              "    <tr>\n",
              "      <th>2</th>\n",
              "      <td>1</td>\n",
              "      <td>1</td>\n",
              "      <td>0</td>\n",
              "      <td>0</td>\n",
              "    </tr>\n",
              "    <tr>\n",
              "      <th>3</th>\n",
              "      <td>1</td>\n",
              "      <td>1</td>\n",
              "      <td>0</td>\n",
              "      <td>0</td>\n",
              "    </tr>\n",
              "    <tr>\n",
              "      <th>4</th>\n",
              "      <td>1</td>\n",
              "      <td>1</td>\n",
              "      <td>0</td>\n",
              "      <td>0</td>\n",
              "    </tr>\n",
              "  </tbody>\n",
              "</table>\n",
              "</div>"
            ],
            "text/plain": [
              "   home  how_it_works  contact  bought\n",
              "0     1             1        0       0\n",
              "1     1             1        0       0\n",
              "2     1             1        0       0\n",
              "3     1             1        0       0\n",
              "4     1             1        0       0"
            ]
          },
          "metadata": {
            "tags": []
          },
          "execution_count": 79
        }
      ]
    },
    {
      "cell_type": "code",
      "metadata": {
        "id": "rTBLi3ZzrjCg"
      },
      "source": [
        "mapa={\n",
        "    \"home\":\"principal\",\n",
        "     \"how_it_works\" : \"como_funciona\",\n",
        "    \"contact\": \"contato\",\n",
        "     \"bought\": \"comprou\" \n",
        "}\n",
        "dados = dados.rename(columns = mapa)"
      ],
      "execution_count": null,
      "outputs": []
    },
    {
      "cell_type": "code",
      "metadata": {
        "id": "TsgnghUQrRBm",
        "outputId": "02b086a8-e177-4719-a141-ab74fdf19ae8",
        "colab": {
          "base_uri": "https://localhost:8080/",
          "height": 119
        }
      },
      "source": [
        "x = dados[[\"principal\",\"como_funciona\",\"contato\"]]\n",
        "y = dados[\"comprou\"]\n",
        "y.head()"
      ],
      "execution_count": null,
      "outputs": [
        {
          "output_type": "execute_result",
          "data": {
            "text/plain": [
              "0    0\n",
              "1    0\n",
              "2    0\n",
              "3    0\n",
              "4    0\n",
              "Name: comprou, dtype: int64"
            ]
          },
          "metadata": {
            "tags": []
          },
          "execution_count": 81
        }
      ]
    },
    {
      "cell_type": "code",
      "metadata": {
        "id": "mqCkC6pPxrbV",
        "outputId": "7ca5416b-9f21-4772-f248-645ecfce5061",
        "colab": {
          "base_uri": "https://localhost:8080/",
          "height": 34
        }
      },
      "source": [
        "dados.shape"
      ],
      "execution_count": null,
      "outputs": [
        {
          "output_type": "execute_result",
          "data": {
            "text/plain": [
              "(99, 4)"
            ]
          },
          "metadata": {
            "tags": []
          },
          "execution_count": 82
        }
      ]
    },
    {
      "cell_type": "code",
      "metadata": {
        "id": "iYdKjoLs05Ms",
        "outputId": "2ac4b2de-9c6d-4485-ea4c-a36161160c8c",
        "colab": {
          "base_uri": "https://localhost:8080/",
          "height": 34
        }
      },
      "source": [
        "treino_x = x[:75]\n",
        "teste_x = x[75:]\n",
        "treino_y = y[:75]\n",
        "teste_y = y[75:]\n",
        "print(len(treino_y),len(teste_y))"
      ],
      "execution_count": null,
      "outputs": [
        {
          "output_type": "stream",
          "text": [
            "75 24\n"
          ],
          "name": "stdout"
        }
      ]
    },
    {
      "cell_type": "code",
      "metadata": {
        "id": "Jam-uM0h1uGE",
        "outputId": "19858f62-fd93-4b0d-f88a-050142f35709",
        "colab": {
          "base_uri": "https://localhost:8080/",
          "height": 85
        }
      },
      "source": [
        "from sklearn.svm import LinearSVC\n",
        "modelo = LinearSVC()\n",
        "modelo.fit(treino_x, treino_y)"
      ],
      "execution_count": null,
      "outputs": [
        {
          "output_type": "execute_result",
          "data": {
            "text/plain": [
              "LinearSVC(C=1.0, class_weight=None, dual=True, fit_intercept=True,\n",
              "          intercept_scaling=1, loss='squared_hinge', max_iter=1000,\n",
              "          multi_class='ovr', penalty='l2', random_state=None, tol=0.0001,\n",
              "          verbose=0)"
            ]
          },
          "metadata": {
            "tags": []
          },
          "execution_count": 84
        }
      ]
    },
    {
      "cell_type": "code",
      "metadata": {
        "id": "GW3az5vz16Tx",
        "outputId": "0b54d2cd-daf7-4536-a7ca-ccc297b66304",
        "colab": {
          "base_uri": "https://localhost:8080/",
          "height": 34
        }
      },
      "source": [
        "previsoes= modelo.predict(teste_x)\n",
        "taxa_de_acerto=accuracy_score(teste_y,previsoes)\n",
        "print(\" A acurácia foi %.2f\" % (taxa_de_acerto * 100))"
      ],
      "execution_count": null,
      "outputs": [
        {
          "output_type": "stream",
          "text": [
            " A acurácia foi 95.83\n"
          ],
          "name": "stdout"
        }
      ]
    },
    {
      "cell_type": "markdown",
      "metadata": {
        "id": "cYoD8KWd5GPt"
      },
      "source": [
        "## podia ter feito de outra maneira, há maneiras de separar o treino e teste mais prática"
      ]
    },
    {
      "cell_type": "code",
      "metadata": {
        "id": "r-8ELDJ45Mb_"
      },
      "source": [
        "from sklearn.model_selection import train_test_split\n",
        "SEED = 20\n",
        "treino_x,teste_x,treino_y,teste_y=train_test_split(x,y,random_state= SEED,test_size= 0.25)"
      ],
      "execution_count": null,
      "outputs": []
    },
    {
      "cell_type": "code",
      "metadata": {
        "id": "5zNLqOV55iwp",
        "outputId": "29261516-02d1-415c-ce0b-5c4f84252ede",
        "colab": {
          "base_uri": "https://localhost:8080/",
          "height": 34
        }
      },
      "source": [
        "modelo = LinearSVC()\n",
        "modelo.fit(treino_x, treino_y)\n",
        "previsoes =  modelo.predict(teste_x)\n",
        "acuracia = accuracy_score(teste_y,previsoes) * 100\n",
        "print(\"A acurácia foi %.2f\" % acuracia)"
      ],
      "execution_count": null,
      "outputs": [
        {
          "output_type": "stream",
          "text": [
            "A acurácia foi 96.00\n"
          ],
          "name": "stdout"
        }
      ]
    },
    {
      "cell_type": "code",
      "metadata": {
        "id": "Dd5CkPyM6VF5",
        "outputId": "e0e546a4-b195-43db-8e18-6d1175a7efea",
        "colab": {
          "base_uri": "https://localhost:8080/",
          "height": 68
        }
      },
      "source": [
        "treino_y.value_counts()"
      ],
      "execution_count": null,
      "outputs": [
        {
          "output_type": "execute_result",
          "data": {
            "text/plain": [
              "0    47\n",
              "1    27\n",
              "Name: comprou, dtype: int64"
            ]
          },
          "metadata": {
            "tags": []
          },
          "execution_count": 88
        }
      ]
    },
    {
      "cell_type": "markdown",
      "metadata": {
        "id": "CspspaM3Abvw"
      },
      "source": [
        "# Projeto 3: saber se o projeto será finalizado ou não sabendo as horas previstas e o valor que poderá ser pago. "
      ]
    },
    {
      "cell_type": "code",
      "metadata": {
        "id": "8yC_orCdAk_u",
        "outputId": "6bcf9795-0d35-43cc-f071-f059b6917b36",
        "colab": {
          "base_uri": "https://localhost:8080/",
          "height": 204
        }
      },
      "source": [
        "url = \"https://gist.githubusercontent.com/guilhermesilveira/1b7d5475863c15f484ac495bd70975cf/raw/16aff7a0aee67e7c100a2a48b676a2d2d142f646/projects.csv\"\n",
        "web = pd.read_csv(url)\n",
        "web.head()"
      ],
      "execution_count": null,
      "outputs": [
        {
          "output_type": "execute_result",
          "data": {
            "text/html": [
              "<div>\n",
              "<style scoped>\n",
              "    .dataframe tbody tr th:only-of-type {\n",
              "        vertical-align: middle;\n",
              "    }\n",
              "\n",
              "    .dataframe tbody tr th {\n",
              "        vertical-align: top;\n",
              "    }\n",
              "\n",
              "    .dataframe thead th {\n",
              "        text-align: right;\n",
              "    }\n",
              "</style>\n",
              "<table border=\"1\" class=\"dataframe\">\n",
              "  <thead>\n",
              "    <tr style=\"text-align: right;\">\n",
              "      <th></th>\n",
              "      <th>unfinished</th>\n",
              "      <th>expected_hours</th>\n",
              "      <th>price</th>\n",
              "    </tr>\n",
              "  </thead>\n",
              "  <tbody>\n",
              "    <tr>\n",
              "      <th>0</th>\n",
              "      <td>1</td>\n",
              "      <td>26</td>\n",
              "      <td>192</td>\n",
              "    </tr>\n",
              "    <tr>\n",
              "      <th>1</th>\n",
              "      <td>1</td>\n",
              "      <td>88</td>\n",
              "      <td>9015</td>\n",
              "    </tr>\n",
              "    <tr>\n",
              "      <th>2</th>\n",
              "      <td>1</td>\n",
              "      <td>89</td>\n",
              "      <td>2577</td>\n",
              "    </tr>\n",
              "    <tr>\n",
              "      <th>3</th>\n",
              "      <td>1</td>\n",
              "      <td>42</td>\n",
              "      <td>275</td>\n",
              "    </tr>\n",
              "    <tr>\n",
              "      <th>4</th>\n",
              "      <td>1</td>\n",
              "      <td>39</td>\n",
              "      <td>170</td>\n",
              "    </tr>\n",
              "  </tbody>\n",
              "</table>\n",
              "</div>"
            ],
            "text/plain": [
              "   unfinished  expected_hours  price\n",
              "0           1              26    192\n",
              "1           1              88   9015\n",
              "2           1              89   2577\n",
              "3           1              42    275\n",
              "4           1              39    170"
            ]
          },
          "metadata": {
            "tags": []
          },
          "execution_count": 89
        }
      ]
    },
    {
      "cell_type": "code",
      "metadata": {
        "id": "NKwVc1TBAxgp",
        "outputId": "91dd101f-0368-4eb5-ce52-f1c88d9dc923",
        "colab": {
          "base_uri": "https://localhost:8080/",
          "height": 204
        }
      },
      "source": [
        "mapa = {\n",
        "    \"unfinished\": \"nao_finalizado\",\n",
        "    \"expected_hours\": \"horas_previstas\",\n",
        "    \"price\":\"preco\"\n",
        "}\n",
        "web= web.rename(columns=mapa)\n",
        "web.head()"
      ],
      "execution_count": null,
      "outputs": [
        {
          "output_type": "execute_result",
          "data": {
            "text/html": [
              "<div>\n",
              "<style scoped>\n",
              "    .dataframe tbody tr th:only-of-type {\n",
              "        vertical-align: middle;\n",
              "    }\n",
              "\n",
              "    .dataframe tbody tr th {\n",
              "        vertical-align: top;\n",
              "    }\n",
              "\n",
              "    .dataframe thead th {\n",
              "        text-align: right;\n",
              "    }\n",
              "</style>\n",
              "<table border=\"1\" class=\"dataframe\">\n",
              "  <thead>\n",
              "    <tr style=\"text-align: right;\">\n",
              "      <th></th>\n",
              "      <th>nao_finalizado</th>\n",
              "      <th>horas_previstas</th>\n",
              "      <th>preco</th>\n",
              "    </tr>\n",
              "  </thead>\n",
              "  <tbody>\n",
              "    <tr>\n",
              "      <th>0</th>\n",
              "      <td>1</td>\n",
              "      <td>26</td>\n",
              "      <td>192</td>\n",
              "    </tr>\n",
              "    <tr>\n",
              "      <th>1</th>\n",
              "      <td>1</td>\n",
              "      <td>88</td>\n",
              "      <td>9015</td>\n",
              "    </tr>\n",
              "    <tr>\n",
              "      <th>2</th>\n",
              "      <td>1</td>\n",
              "      <td>89</td>\n",
              "      <td>2577</td>\n",
              "    </tr>\n",
              "    <tr>\n",
              "      <th>3</th>\n",
              "      <td>1</td>\n",
              "      <td>42</td>\n",
              "      <td>275</td>\n",
              "    </tr>\n",
              "    <tr>\n",
              "      <th>4</th>\n",
              "      <td>1</td>\n",
              "      <td>39</td>\n",
              "      <td>170</td>\n",
              "    </tr>\n",
              "  </tbody>\n",
              "</table>\n",
              "</div>"
            ],
            "text/plain": [
              "   nao_finalizado  horas_previstas  preco\n",
              "0               1               26    192\n",
              "1               1               88   9015\n",
              "2               1               89   2577\n",
              "3               1               42    275\n",
              "4               1               39    170"
            ]
          },
          "metadata": {
            "tags": []
          },
          "execution_count": 90
        }
      ]
    },
    {
      "cell_type": "code",
      "metadata": {
        "id": "3cqDvF6IBb6i",
        "outputId": "9f2a70cd-783e-49b8-8183-0078c747ce1d",
        "colab": {
          "base_uri": "https://localhost:8080/",
          "height": 204
        }
      },
      "source": [
        "trocar = {\n",
        "    0:1,\n",
        "    1:0\n",
        "}\n",
        "web['finalizado']= web['nao_finalizado'].map(trocar)\n",
        "web.head()\n"
      ],
      "execution_count": null,
      "outputs": [
        {
          "output_type": "execute_result",
          "data": {
            "text/html": [
              "<div>\n",
              "<style scoped>\n",
              "    .dataframe tbody tr th:only-of-type {\n",
              "        vertical-align: middle;\n",
              "    }\n",
              "\n",
              "    .dataframe tbody tr th {\n",
              "        vertical-align: top;\n",
              "    }\n",
              "\n",
              "    .dataframe thead th {\n",
              "        text-align: right;\n",
              "    }\n",
              "</style>\n",
              "<table border=\"1\" class=\"dataframe\">\n",
              "  <thead>\n",
              "    <tr style=\"text-align: right;\">\n",
              "      <th></th>\n",
              "      <th>nao_finalizado</th>\n",
              "      <th>horas_previstas</th>\n",
              "      <th>preco</th>\n",
              "      <th>finalizado</th>\n",
              "    </tr>\n",
              "  </thead>\n",
              "  <tbody>\n",
              "    <tr>\n",
              "      <th>0</th>\n",
              "      <td>1</td>\n",
              "      <td>26</td>\n",
              "      <td>192</td>\n",
              "      <td>0</td>\n",
              "    </tr>\n",
              "    <tr>\n",
              "      <th>1</th>\n",
              "      <td>1</td>\n",
              "      <td>88</td>\n",
              "      <td>9015</td>\n",
              "      <td>0</td>\n",
              "    </tr>\n",
              "    <tr>\n",
              "      <th>2</th>\n",
              "      <td>1</td>\n",
              "      <td>89</td>\n",
              "      <td>2577</td>\n",
              "      <td>0</td>\n",
              "    </tr>\n",
              "    <tr>\n",
              "      <th>3</th>\n",
              "      <td>1</td>\n",
              "      <td>42</td>\n",
              "      <td>275</td>\n",
              "      <td>0</td>\n",
              "    </tr>\n",
              "    <tr>\n",
              "      <th>4</th>\n",
              "      <td>1</td>\n",
              "      <td>39</td>\n",
              "      <td>170</td>\n",
              "      <td>0</td>\n",
              "    </tr>\n",
              "  </tbody>\n",
              "</table>\n",
              "</div>"
            ],
            "text/plain": [
              "   nao_finalizado  horas_previstas  preco  finalizado\n",
              "0               1               26    192           0\n",
              "1               1               88   9015           0\n",
              "2               1               89   2577           0\n",
              "3               1               42    275           0\n",
              "4               1               39    170           0"
            ]
          },
          "metadata": {
            "tags": []
          },
          "execution_count": 91
        }
      ]
    },
    {
      "cell_type": "code",
      "metadata": {
        "id": "oyeg2KHyCPQj"
      },
      "source": [
        "import seaborn as sns"
      ],
      "execution_count": null,
      "outputs": []
    },
    {
      "cell_type": "code",
      "metadata": {
        "id": "eWhjhO-FCoLl",
        "outputId": "1b1683e9-eb4a-4e6b-8d5b-607a1a25a999",
        "colab": {
          "base_uri": "https://localhost:8080/",
          "height": 297
        }
      },
      "source": [
        "sns.scatterplot(x='horas_previstas',y='preco',data=web)"
      ],
      "execution_count": null,
      "outputs": [
        {
          "output_type": "execute_result",
          "data": {
            "text/plain": [
              "<matplotlib.axes._subplots.AxesSubplot at 0x7f697f37d8d0>"
            ]
          },
          "metadata": {
            "tags": []
          },
          "execution_count": 93
        },
        {
          "output_type": "display_data",
          "data": {
            "image/png": "[encoded data removed]",
            "text/plain": [
              "<Figure size 432x288 with 1 Axes>"
            ]
          },
          "metadata": {
            "tags": [],
            "needs_background": "light"
          }
        }
      ]
    },
    {
      "cell_type": "code",
      "metadata": {
        "id": "4bFqcTtcC1IZ",
        "outputId": "88b8bdbc-aaa4-4e4d-c2be-3693673a162a",
        "colab": {
          "base_uri": "https://localhost:8080/",
          "height": 173
        }
      },
      "source": [
        "web.corr()"
      ],
      "execution_count": null,
      "outputs": [
        {
          "output_type": "execute_result",
          "data": {
            "text/html": [
              "<div>\n",
              "<style scoped>\n",
              "    .dataframe tbody tr th:only-of-type {\n",
              "        vertical-align: middle;\n",
              "    }\n",
              "\n",
              "    .dataframe tbody tr th {\n",
              "        vertical-align: top;\n",
              "    }\n",
              "\n",
              "    .dataframe thead th {\n",
              "        text-align: right;\n",
              "    }\n",
              "</style>\n",
              "<table border=\"1\" class=\"dataframe\">\n",
              "  <thead>\n",
              "    <tr style=\"text-align: right;\">\n",
              "      <th></th>\n",
              "      <th>nao_finalizado</th>\n",
              "      <th>horas_previstas</th>\n",
              "      <th>preco</th>\n",
              "      <th>finalizado</th>\n",
              "    </tr>\n",
              "  </thead>\n",
              "  <tbody>\n",
              "    <tr>\n",
              "      <th>nao_finalizado</th>\n",
              "      <td>1.000000</td>\n",
              "      <td>-0.010927</td>\n",
              "      <td>-0.184062</td>\n",
              "      <td>-1.000000</td>\n",
              "    </tr>\n",
              "    <tr>\n",
              "      <th>horas_previstas</th>\n",
              "      <td>-0.010927</td>\n",
              "      <td>1.000000</td>\n",
              "      <td>0.698111</td>\n",
              "      <td>0.010927</td>\n",
              "    </tr>\n",
              "    <tr>\n",
              "      <th>preco</th>\n",
              "      <td>-0.184062</td>\n",
              "      <td>0.698111</td>\n",
              "      <td>1.000000</td>\n",
              "      <td>0.184062</td>\n",
              "    </tr>\n",
              "    <tr>\n",
              "      <th>finalizado</th>\n",
              "      <td>-1.000000</td>\n",
              "      <td>0.010927</td>\n",
              "      <td>0.184062</td>\n",
              "      <td>1.000000</td>\n",
              "    </tr>\n",
              "  </tbody>\n",
              "</table>\n",
              "</div>"
            ],
            "text/plain": [
              "                 nao_finalizado  horas_previstas     preco  finalizado\n",
              "nao_finalizado         1.000000        -0.010927 -0.184062   -1.000000\n",
              "horas_previstas       -0.010927         1.000000  0.698111    0.010927\n",
              "preco                 -0.184062         0.698111  1.000000    0.184062\n",
              "finalizado            -1.000000         0.010927  0.184062    1.000000"
            ]
          },
          "metadata": {
            "tags": []
          },
          "execution_count": 94
        }
      ]
    },
    {
      "cell_type": "code",
      "metadata": {
        "id": "-YneGHFPENQ2",
        "outputId": "592ceb1d-bf2a-4f26-fa5c-020bf9648f51",
        "colab": {
          "base_uri": "https://localhost:8080/",
          "height": 297
        }
      },
      "source": [
        "sns.scatterplot(x='horas_previstas',y='preco',data=web,hue='finalizado')"
      ],
      "execution_count": null,
      "outputs": [
        {
          "output_type": "execute_result",
          "data": {
            "text/plain": [
              "<matplotlib.axes._subplots.AxesSubplot at 0x7f697f392ac8>"
            ]
          },
          "metadata": {
            "tags": []
          },
          "execution_count": 95
        },
        {
          "output_type": "display_data",
          "data": {
            "image/png": "[encoded data removed]",
            "text/plain": [
              "<Figure size 432x288 with 1 Axes>"
            ]
          },
          "metadata": {
            "tags": [],
            "needs_background": "light"
          }
        }
      ]
    },
    {
      "cell_type": "code",
      "metadata": {
        "id": "QtP54wyEE9qO",
        "outputId": "db062cba-e517-40e4-f3fc-b29d5e5c20f0",
        "colab": {
          "base_uri": "https://localhost:8080/",
          "height": 345
        }
      },
      "source": [
        "sns.relplot(x='horas_previstas',y='preco',data=web,col='finalizado')"
      ],
      "execution_count": null,
      "outputs": [
        {
          "output_type": "execute_result",
          "data": {
            "text/plain": [
              "<seaborn.axisgrid.FacetGrid at 0x7f697f269748>"
            ]
          },
          "metadata": {
            "tags": []
          },
          "execution_count": 96
        },
        {
          "output_type": "display_data",
          "data": {
            "image/png": "[encoded data removed]",
            "text/plain": [
              "<Figure size 720x360 with 2 Axes>"
            ]
          },
          "metadata": {
            "tags": [],
            "needs_background": "light"
          }
        }
      ]
    },
    {
      "cell_type": "code",
      "metadata": {
        "id": "QW0z35kSFOdM"
      },
      "source": [
        "x = web[[\"horas_previstas\",\"preco\"]]\n",
        "y=web['finalizado']"
      ],
      "execution_count": null,
      "outputs": []
    },
    {
      "cell_type": "code",
      "metadata": {
        "id": "DYz07KjjRP1y",
        "outputId": "a582aa8d-7182-49dd-eada-7406c936199f",
        "colab": {
          "base_uri": "https://localhost:8080/",
          "height": 88
        }
      },
      "source": [
        "from sklearn.model_selection import train_test_split\n",
        "SEED = 20\n",
        "treino_x,teste_x,treino_y,teste_y=train_test_split(x,y,random_state= SEED,test_size= 0.25)\n",
        "modelo = LinearSVC()\n",
        "modelo.fit(treino_x, treino_y)\n",
        "previsoes =  modelo.predict(teste_x)\n",
        "acuracia = accuracy_score(teste_y,previsoes) * 100\n",
        "print(\"A acurácia foi %.2f\" % acuracia)\n"
      ],
      "execution_count": null,
      "outputs": [
        {
          "output_type": "stream",
          "text": [
            "A acurácia foi 52.04\n"
          ],
          "name": "stdout"
        },
        {
          "output_type": "stream",
          "text": [
            "/usr/local/lib/python3.6/dist-packages/sklearn/svm/_base.py:947: ConvergenceWarning: Liblinear failed to converge, increase the number of iterations.\n",
            "  \"the number of iterations.\", ConvergenceWarning)\n"
          ],
          "name": "stderr"
        }
      ]
    },
    {
      "cell_type": "code",
      "metadata": {
        "id": "ssNqtaHCRzG4"
      },
      "source": [
        ""
      ],
      "execution_count": null,
      "outputs": []
    },
    {
      "cell_type": "markdown",
      "metadata": {
        "id": "b-MeqOeySeZ3"
      },
      "source": [
        "## Baseline"
      ]
    },
    {
      "cell_type": "code",
      "metadata": {
        "id": "OgcErRu3SgNl"
      },
      "source": [
        "import numpy as np"
      ],
      "execution_count": null,
      "outputs": []
    },
    {
      "cell_type": "code",
      "metadata": {
        "id": "iZRkhGbdSjG4",
        "outputId": "52671e37-ef75-47ec-f874-c220fec084cc",
        "colab": {
          "base_uri": "https://localhost:8080/",
          "height": 34
        }
      },
      "source": [
        "baseline=np.ones(540)\n",
        "acuracia = accuracy_score(teste_y,baseline) * 100\n",
        "print(\"A acurácia foi %.2f\" % acuracia)"
      ],
      "execution_count": null,
      "outputs": [
        {
          "output_type": "stream",
          "text": [
            "A acurácia foi 52.04\n"
          ],
          "name": "stdout"
        }
      ]
    },
    {
      "cell_type": "code",
      "metadata": {
        "id": "CFqtss6qSwS-"
      },
      "source": [
        "x_min = teste_x.horas_previstas.min()\n",
        "x_max = teste_x.horas_previstas.max()\n",
        "y_min = teste_x.horas_previstas.min()\n",
        "y_max = teste_x.horas_previstas.max()\n",
        "pixels = 100\n",
        "eixo_x=np.arange(x_min,x_max,(x_max-x_min)/pixels)\n",
        "eixo_y=np.arange(y_min,y_max,(y_max-y_min)/pixels)"
      ],
      "execution_count": null,
      "outputs": []
    },
    {
      "cell_type": "code",
      "metadata": {
        "id": "r3BXetwzZRzD",
        "outputId": "fb487e73-5baa-4a60-9fe6-a6f920155aeb",
        "colab": {
          "base_uri": "https://localhost:8080/",
          "height": 136
        }
      },
      "source": [
        "xx,yy = np.meshgrid(eixo_x,eixo_y)\n",
        "pontos=np.c_[xx.ravel(),yy.ravel()]\n",
        "pontos"
      ],
      "execution_count": null,
      "outputs": [
        {
          "output_type": "execute_result",
          "data": {
            "text/plain": [
              "array([[ 1.  ,  1.  ],\n",
              "       [ 1.99,  1.  ],\n",
              "       [ 2.98,  1.  ],\n",
              "       ...,\n",
              "       [97.03, 99.01],\n",
              "       [98.02, 99.01],\n",
              "       [99.01, 99.01]])"
            ]
          },
          "metadata": {
            "tags": []
          },
          "execution_count": 102
        }
      ]
    },
    {
      "cell_type": "code",
      "metadata": {
        "id": "JXc2kdOtZhGd"
      },
      "source": [
        "Z=modelo.predict(pontos)\n",
        "Z=Z.reshape(xx.shape)"
      ],
      "execution_count": null,
      "outputs": []
    },
    {
      "cell_type": "code",
      "metadata": {
        "id": "msQB7J2XaAfs"
      },
      "source": [
        "import matplotlib.pyplot as plt"
      ],
      "execution_count": null,
      "outputs": []
    },
    {
      "cell_type": "code",
      "metadata": {
        "id": "ote_SgXiaVf9",
        "outputId": "1a9d120e-4195-4268-8a99-26dac5b1cd0b",
        "colab": {
          "base_uri": "https://localhost:8080/",
          "height": 282
        }
      },
      "source": [
        "plt.contourf(xx,yy,Z,alpha=0.9)\n",
        "plt.scatter(teste_x.horas_previstas,teste_x.preco,c=teste_y,s=1)"
      ],
      "execution_count": null,
      "outputs": [
        {
          "output_type": "execute_result",
          "data": {
            "text/plain": [
              "<matplotlib.collections.PathCollection at 0x7f697f155c88>"
            ]
          },
          "metadata": {
            "tags": []
          },
          "execution_count": 105
        },
        {
          "output_type": "display_data",
          "data": {
            "image/png": "[encoded data removed]",
            "text/plain": [
              "<Figure size 432x288 with 1 Axes>"
            ]
          },
          "metadata": {
            "tags": [],
            "needs_background": "light"
          }
        }
      ]
    },
    {
      "cell_type": "code",
      "metadata": {
        "id": "dBqcqwrSaiXr"
      },
      "source": [
        ""
      ],
      "execution_count": null,
      "outputs": []
    },
    {
      "cell_type": "markdown",
      "metadata": {
        "id": "4cYDJx3hwYm1"
      },
      "source": [
        "# Estimadores não lineares e support vector machine"
      ]
    },
    {
      "cell_type": "markdown",
      "metadata": {
        "id": "KckDtWoTNHBs"
      },
      "source": [
        "# Venda de carros fictícias "
      ]
    },
    {
      "cell_type": "code",
      "metadata": {
        "id": "Al8PQWLgwczU"
      },
      "source": [
        "uri =\"https://gist.githubusercontent.com/guilhermesilveira/4d1d4a16ccbf6ea4e0a64a38a24ec884/raw/afd05cb0c796d18f3f5a6537053ded308ba94bf7/car-prices.csv\""
      ],
      "execution_count": null,
      "outputs": []
    },
    {
      "cell_type": "code",
      "metadata": {
        "id": "4u8N5OoQNQi1",
        "outputId": "dba7c749-db59-456e-996c-f92ed00a3f00",
        "colab": {
          "base_uri": "https://localhost:8080/",
          "height": 359
        }
      },
      "source": [
        "dados = pd.read_csv(uri)\n",
        "dados.head(10)"
      ],
      "execution_count": null,
      "outputs": [
        {
          "output_type": "execute_result",
          "data": {
            "text/html": [
              "<div>\n",
              "<style scoped>\n",
              "    .dataframe tbody tr th:only-of-type {\n",
              "        vertical-align: middle;\n",
              "    }\n",
              "\n",
              "    .dataframe tbody tr th {\n",
              "        vertical-align: top;\n",
              "    }\n",
              "\n",
              "    .dataframe thead th {\n",
              "        text-align: right;\n",
              "    }\n",
              "</style>\n",
              "<table border=\"1\" class=\"dataframe\">\n",
              "  <thead>\n",
              "    <tr style=\"text-align: right;\">\n",
              "      <th></th>\n",
              "      <th>Unnamed: 0</th>\n",
              "      <th>mileage_per_year</th>\n",
              "      <th>model_year</th>\n",
              "      <th>price</th>\n",
              "      <th>sold</th>\n",
              "    </tr>\n",
              "  </thead>\n",
              "  <tbody>\n",
              "    <tr>\n",
              "      <th>0</th>\n",
              "      <td>0</td>\n",
              "      <td>21801</td>\n",
              "      <td>2000</td>\n",
              "      <td>30941.02</td>\n",
              "      <td>yes</td>\n",
              "    </tr>\n",
              "    <tr>\n",
              "      <th>1</th>\n",
              "      <td>1</td>\n",
              "      <td>7843</td>\n",
              "      <td>1998</td>\n",
              "      <td>40557.96</td>\n",
              "      <td>yes</td>\n",
              "    </tr>\n",
              "    <tr>\n",
              "      <th>2</th>\n",
              "      <td>2</td>\n",
              "      <td>7109</td>\n",
              "      <td>2006</td>\n",
              "      <td>89627.50</td>\n",
              "      <td>no</td>\n",
              "    </tr>\n",
              "    <tr>\n",
              "      <th>3</th>\n",
              "      <td>3</td>\n",
              "      <td>26823</td>\n",
              "      <td>2015</td>\n",
              "      <td>95276.14</td>\n",
              "      <td>no</td>\n",
              "    </tr>\n",
              "    <tr>\n",
              "      <th>4</th>\n",
              "      <td>4</td>\n",
              "      <td>7935</td>\n",
              "      <td>2014</td>\n",
              "      <td>117384.68</td>\n",
              "      <td>yes</td>\n",
              "    </tr>\n",
              "    <tr>\n",
              "      <th>5</th>\n",
              "      <td>5</td>\n",
              "      <td>14661</td>\n",
              "      <td>2007</td>\n",
              "      <td>55405.26</td>\n",
              "      <td>yes</td>\n",
              "    </tr>\n",
              "    <tr>\n",
              "      <th>6</th>\n",
              "      <td>6</td>\n",
              "      <td>9990</td>\n",
              "      <td>2002</td>\n",
              "      <td>93415.61</td>\n",
              "      <td>yes</td>\n",
              "    </tr>\n",
              "    <tr>\n",
              "      <th>7</th>\n",
              "      <td>7</td>\n",
              "      <td>11599</td>\n",
              "      <td>2008</td>\n",
              "      <td>65265.09</td>\n",
              "      <td>no</td>\n",
              "    </tr>\n",
              "    <tr>\n",
              "      <th>8</th>\n",
              "      <td>8</td>\n",
              "      <td>7834</td>\n",
              "      <td>1999</td>\n",
              "      <td>43917.53</td>\n",
              "      <td>yes</td>\n",
              "    </tr>\n",
              "    <tr>\n",
              "      <th>9</th>\n",
              "      <td>9</td>\n",
              "      <td>14913</td>\n",
              "      <td>2003</td>\n",
              "      <td>107860.41</td>\n",
              "      <td>yes</td>\n",
              "    </tr>\n",
              "  </tbody>\n",
              "</table>\n",
              "</div>"
            ],
            "text/plain": [
              "   Unnamed: 0  mileage_per_year  model_year      price sold\n",
              "0           0             21801        2000   30941.02  yes\n",
              "1           1              7843        1998   40557.96  yes\n",
              "2           2              7109        2006   89627.50   no\n",
              "3           3             26823        2015   95276.14   no\n",
              "4           4              7935        2014  117384.68  yes\n",
              "5           5             14661        2007   55405.26  yes\n",
              "6           6              9990        2002   93415.61  yes\n",
              "7           7             11599        2008   65265.09   no\n",
              "8           8              7834        1999   43917.53  yes\n",
              "9           9             14913        2003  107860.41  yes"
            ]
          },
          "metadata": {
            "tags": []
          },
          "execution_count": 109
        }
      ]
    },
    {
      "cell_type": "code",
      "metadata": {
        "id": "H3BALc7GNWXw"
      },
      "source": [
        "mapa ={\n",
        "   \"mileage_per_year\": \"milhas_por_ano\",\n",
        "   \"model_year\":\"ano_do_modelo\",\n",
        "   \"price\":\"preco\",\n",
        "   \"sold\":\"vendido\"\n",
        "}"
      ],
      "execution_count": null,
      "outputs": []
    },
    {
      "cell_type": "code",
      "metadata": {
        "id": "Taa4rJ_mOQEY"
      },
      "source": [
        "dados=dados.rename(columns=mapa)"
      ],
      "execution_count": null,
      "outputs": []
    },
    {
      "cell_type": "code",
      "metadata": {
        "id": "Uaopk2P8OeKK"
      },
      "source": [
        "trocar={\n",
        "    'no':0,\n",
        "    'yes':1\n",
        "}\n"
      ],
      "execution_count": null,
      "outputs": []
    },
    {
      "cell_type": "code",
      "metadata": {
        "id": "6FN4EfV1OyBk"
      },
      "source": [
        "dados.vendido=dados.vendido.map(trocar)\n"
      ],
      "execution_count": null,
      "outputs": []
    },
    {
      "cell_type": "code",
      "metadata": {
        "id": "JQCoGKq4O6MD",
        "outputId": "4f806b13-e1af-4e3c-e515-332134f86b2e",
        "colab": {
          "base_uri": "https://localhost:8080/",
          "height": 359
        }
      },
      "source": [
        "dados.head(10)"
      ],
      "execution_count": null,
      "outputs": [
        {
          "output_type": "execute_result",
          "data": {
            "text/html": [
              "<div>\n",
              "<style scoped>\n",
              "    .dataframe tbody tr th:only-of-type {\n",
              "        vertical-align: middle;\n",
              "    }\n",
              "\n",
              "    .dataframe tbody tr th {\n",
              "        vertical-align: top;\n",
              "    }\n",
              "\n",
              "    .dataframe thead th {\n",
              "        text-align: right;\n",
              "    }\n",
              "</style>\n",
              "<table border=\"1\" class=\"dataframe\">\n",
              "  <thead>\n",
              "    <tr style=\"text-align: right;\">\n",
              "      <th></th>\n",
              "      <th>Unnamed: 0</th>\n",
              "      <th>milhas_por_ano</th>\n",
              "      <th>ano_do_modelo</th>\n",
              "      <th>preco</th>\n",
              "      <th>vendido</th>\n",
              "    </tr>\n",
              "  </thead>\n",
              "  <tbody>\n",
              "    <tr>\n",
              "      <th>0</th>\n",
              "      <td>0</td>\n",
              "      <td>21801</td>\n",
              "      <td>2000</td>\n",
              "      <td>30941.02</td>\n",
              "      <td>1</td>\n",
              "    </tr>\n",
              "    <tr>\n",
              "      <th>1</th>\n",
              "      <td>1</td>\n",
              "      <td>7843</td>\n",
              "      <td>1998</td>\n",
              "      <td>40557.96</td>\n",
              "      <td>1</td>\n",
              "    </tr>\n",
              "    <tr>\n",
              "      <th>2</th>\n",
              "      <td>2</td>\n",
              "      <td>7109</td>\n",
              "      <td>2006</td>\n",
              "      <td>89627.50</td>\n",
              "      <td>0</td>\n",
              "    </tr>\n",
              "    <tr>\n",
              "      <th>3</th>\n",
              "      <td>3</td>\n",
              "      <td>26823</td>\n",
              "      <td>2015</td>\n",
              "      <td>95276.14</td>\n",
              "      <td>0</td>\n",
              "    </tr>\n",
              "    <tr>\n",
              "      <th>4</th>\n",
              "      <td>4</td>\n",
              "      <td>7935</td>\n",
              "      <td>2014</td>\n",
              "      <td>117384.68</td>\n",
              "      <td>1</td>\n",
              "    </tr>\n",
              "    <tr>\n",
              "      <th>5</th>\n",
              "      <td>5</td>\n",
              "      <td>14661</td>\n",
              "      <td>2007</td>\n",
              "      <td>55405.26</td>\n",
              "      <td>1</td>\n",
              "    </tr>\n",
              "    <tr>\n",
              "      <th>6</th>\n",
              "      <td>6</td>\n",
              "      <td>9990</td>\n",
              "      <td>2002</td>\n",
              "      <td>93415.61</td>\n",
              "      <td>1</td>\n",
              "    </tr>\n",
              "    <tr>\n",
              "      <th>7</th>\n",
              "      <td>7</td>\n",
              "      <td>11599</td>\n",
              "      <td>2008</td>\n",
              "      <td>65265.09</td>\n",
              "      <td>0</td>\n",
              "    </tr>\n",
              "    <tr>\n",
              "      <th>8</th>\n",
              "      <td>8</td>\n",
              "      <td>7834</td>\n",
              "      <td>1999</td>\n",
              "      <td>43917.53</td>\n",
              "      <td>1</td>\n",
              "    </tr>\n",
              "    <tr>\n",
              "      <th>9</th>\n",
              "      <td>9</td>\n",
              "      <td>14913</td>\n",
              "      <td>2003</td>\n",
              "      <td>107860.41</td>\n",
              "      <td>1</td>\n",
              "    </tr>\n",
              "  </tbody>\n",
              "</table>\n",
              "</div>"
            ],
            "text/plain": [
              "   Unnamed: 0  milhas_por_ano  ano_do_modelo      preco  vendido\n",
              "0           0           21801           2000   30941.02        1\n",
              "1           1            7843           1998   40557.96        1\n",
              "2           2            7109           2006   89627.50        0\n",
              "3           3           26823           2015   95276.14        0\n",
              "4           4            7935           2014  117384.68        1\n",
              "5           5           14661           2007   55405.26        1\n",
              "6           6            9990           2002   93415.61        1\n",
              "7           7           11599           2008   65265.09        0\n",
              "8           8            7834           1999   43917.53        1\n",
              "9           9           14913           2003  107860.41        1"
            ]
          },
          "metadata": {
            "tags": []
          },
          "execution_count": 115
        }
      ]
    },
    {
      "cell_type": "code",
      "metadata": {
        "id": "m-6z6LzxO8EG",
        "outputId": "3377fe18-158e-4713-97ea-d74ac47acb2e",
        "colab": {
          "base_uri": "https://localhost:8080/",
          "height": 359
        }
      },
      "source": [
        "from datetime import datetime\n",
        "ano_atual=datetime.today().year\n",
        "dados['idade_do_modelo']= ano_atual - dados.ano_do_modelo\n",
        "dados.head(10)"
      ],
      "execution_count": null,
      "outputs": [
        {
          "output_type": "execute_result",
          "data": {
            "text/html": [
              "<div>\n",
              "<style scoped>\n",
              "    .dataframe tbody tr th:only-of-type {\n",
              "        vertical-align: middle;\n",
              "    }\n",
              "\n",
              "    .dataframe tbody tr th {\n",
              "        vertical-align: top;\n",
              "    }\n",
              "\n",
              "    .dataframe thead th {\n",
              "        text-align: right;\n",
              "    }\n",
              "</style>\n",
              "<table border=\"1\" class=\"dataframe\">\n",
              "  <thead>\n",
              "    <tr style=\"text-align: right;\">\n",
              "      <th></th>\n",
              "      <th>Unnamed: 0</th>\n",
              "      <th>milhas_por_ano</th>\n",
              "      <th>ano_do_modelo</th>\n",
              "      <th>preco</th>\n",
              "      <th>vendido</th>\n",
              "      <th>idade_do_modelo</th>\n",
              "    </tr>\n",
              "  </thead>\n",
              "  <tbody>\n",
              "    <tr>\n",
              "      <th>0</th>\n",
              "      <td>0</td>\n",
              "      <td>21801</td>\n",
              "      <td>2000</td>\n",
              "      <td>30941.02</td>\n",
              "      <td>1</td>\n",
              "      <td>20</td>\n",
              "    </tr>\n",
              "    <tr>\n",
              "      <th>1</th>\n",
              "      <td>1</td>\n",
              "      <td>7843</td>\n",
              "      <td>1998</td>\n",
              "      <td>40557.96</td>\n",
              "      <td>1</td>\n",
              "      <td>22</td>\n",
              "    </tr>\n",
              "    <tr>\n",
              "      <th>2</th>\n",
              "      <td>2</td>\n",
              "      <td>7109</td>\n",
              "      <td>2006</td>\n",
              "      <td>89627.50</td>\n",
              "      <td>0</td>\n",
              "      <td>14</td>\n",
              "    </tr>\n",
              "    <tr>\n",
              "      <th>3</th>\n",
              "      <td>3</td>\n",
              "      <td>26823</td>\n",
              "      <td>2015</td>\n",
              "      <td>95276.14</td>\n",
              "      <td>0</td>\n",
              "      <td>5</td>\n",
              "    </tr>\n",
              "    <tr>\n",
              "      <th>4</th>\n",
              "      <td>4</td>\n",
              "      <td>7935</td>\n",
              "      <td>2014</td>\n",
              "      <td>117384.68</td>\n",
              "      <td>1</td>\n",
              "      <td>6</td>\n",
              "    </tr>\n",
              "    <tr>\n",
              "      <th>5</th>\n",
              "      <td>5</td>\n",
              "      <td>14661</td>\n",
              "      <td>2007</td>\n",
              "      <td>55405.26</td>\n",
              "      <td>1</td>\n",
              "      <td>13</td>\n",
              "    </tr>\n",
              "    <tr>\n",
              "      <th>6</th>\n",
              "      <td>6</td>\n",
              "      <td>9990</td>\n",
              "      <td>2002</td>\n",
              "      <td>93415.61</td>\n",
              "      <td>1</td>\n",
              "      <td>18</td>\n",
              "    </tr>\n",
              "    <tr>\n",
              "      <th>7</th>\n",
              "      <td>7</td>\n",
              "      <td>11599</td>\n",
              "      <td>2008</td>\n",
              "      <td>65265.09</td>\n",
              "      <td>0</td>\n",
              "      <td>12</td>\n",
              "    </tr>\n",
              "    <tr>\n",
              "      <th>8</th>\n",
              "      <td>8</td>\n",
              "      <td>7834</td>\n",
              "      <td>1999</td>\n",
              "      <td>43917.53</td>\n",
              "      <td>1</td>\n",
              "      <td>21</td>\n",
              "    </tr>\n",
              "    <tr>\n",
              "      <th>9</th>\n",
              "      <td>9</td>\n",
              "      <td>14913</td>\n",
              "      <td>2003</td>\n",
              "      <td>107860.41</td>\n",
              "      <td>1</td>\n",
              "      <td>17</td>\n",
              "    </tr>\n",
              "  </tbody>\n",
              "</table>\n",
              "</div>"
            ],
            "text/plain": [
              "   Unnamed: 0  milhas_por_ano  ...  vendido  idade_do_modelo\n",
              "0           0           21801  ...        1               20\n",
              "1           1            7843  ...        1               22\n",
              "2           2            7109  ...        0               14\n",
              "3           3           26823  ...        0                5\n",
              "4           4            7935  ...        1                6\n",
              "5           5           14661  ...        1               13\n",
              "6           6            9990  ...        1               18\n",
              "7           7           11599  ...        0               12\n",
              "8           8            7834  ...        1               21\n",
              "9           9           14913  ...        1               17\n",
              "\n",
              "[10 rows x 6 columns]"
            ]
          },
          "metadata": {
            "tags": []
          },
          "execution_count": 116
        }
      ]
    },
    {
      "cell_type": "code",
      "metadata": {
        "id": "xtzrb4TUPkH5",
        "outputId": "1aaa6a98-e0fb-4e11-accb-ca6acb97f078",
        "colab": {
          "base_uri": "https://localhost:8080/",
          "height": 396
        }
      },
      "source": [
        "dados['km_por_ano'] = dados.milhas_por_ano * 1.60934\n",
        "dados.head(10)"
      ],
      "execution_count": null,
      "outputs": [
        {
          "output_type": "execute_result",
          "data": {
            "text/html": [
              "<div>\n",
              "<style scoped>\n",
              "    .dataframe tbody tr th:only-of-type {\n",
              "        vertical-align: middle;\n",
              "    }\n",
              "\n",
              "    .dataframe tbody tr th {\n",
              "        vertical-align: top;\n",
              "    }\n",
              "\n",
              "    .dataframe thead th {\n",
              "        text-align: right;\n",
              "    }\n",
              "</style>\n",
              "<table border=\"1\" class=\"dataframe\">\n",
              "  <thead>\n",
              "    <tr style=\"text-align: right;\">\n",
              "      <th></th>\n",
              "      <th>Unnamed: 0</th>\n",
              "      <th>milhas_por_ano</th>\n",
              "      <th>ano_do_modelo</th>\n",
              "      <th>preco</th>\n",
              "      <th>vendido</th>\n",
              "      <th>idade_do_modelo</th>\n",
              "      <th>km_por_ano</th>\n",
              "    </tr>\n",
              "  </thead>\n",
              "  <tbody>\n",
              "    <tr>\n",
              "      <th>0</th>\n",
              "      <td>0</td>\n",
              "      <td>21801</td>\n",
              "      <td>2000</td>\n",
              "      <td>30941.02</td>\n",
              "      <td>1</td>\n",
              "      <td>20</td>\n",
              "      <td>35085.22134</td>\n",
              "    </tr>\n",
              "    <tr>\n",
              "      <th>1</th>\n",
              "      <td>1</td>\n",
              "      <td>7843</td>\n",
              "      <td>1998</td>\n",
              "      <td>40557.96</td>\n",
              "      <td>1</td>\n",
              "      <td>22</td>\n",
              "      <td>12622.05362</td>\n",
              "    </tr>\n",
              "    <tr>\n",
              "      <th>2</th>\n",
              "      <td>2</td>\n",
              "      <td>7109</td>\n",
              "      <td>2006</td>\n",
              "      <td>89627.50</td>\n",
              "      <td>0</td>\n",
              "      <td>14</td>\n",
              "      <td>11440.79806</td>\n",
              "    </tr>\n",
              "    <tr>\n",
              "      <th>3</th>\n",
              "      <td>3</td>\n",
              "      <td>26823</td>\n",
              "      <td>2015</td>\n",
              "      <td>95276.14</td>\n",
              "      <td>0</td>\n",
              "      <td>5</td>\n",
              "      <td>43167.32682</td>\n",
              "    </tr>\n",
              "    <tr>\n",
              "      <th>4</th>\n",
              "      <td>4</td>\n",
              "      <td>7935</td>\n",
              "      <td>2014</td>\n",
              "      <td>117384.68</td>\n",
              "      <td>1</td>\n",
              "      <td>6</td>\n",
              "      <td>12770.11290</td>\n",
              "    </tr>\n",
              "    <tr>\n",
              "      <th>5</th>\n",
              "      <td>5</td>\n",
              "      <td>14661</td>\n",
              "      <td>2007</td>\n",
              "      <td>55405.26</td>\n",
              "      <td>1</td>\n",
              "      <td>13</td>\n",
              "      <td>23594.53374</td>\n",
              "    </tr>\n",
              "    <tr>\n",
              "      <th>6</th>\n",
              "      <td>6</td>\n",
              "      <td>9990</td>\n",
              "      <td>2002</td>\n",
              "      <td>93415.61</td>\n",
              "      <td>1</td>\n",
              "      <td>18</td>\n",
              "      <td>16077.30660</td>\n",
              "    </tr>\n",
              "    <tr>\n",
              "      <th>7</th>\n",
              "      <td>7</td>\n",
              "      <td>11599</td>\n",
              "      <td>2008</td>\n",
              "      <td>65265.09</td>\n",
              "      <td>0</td>\n",
              "      <td>12</td>\n",
              "      <td>18666.73466</td>\n",
              "    </tr>\n",
              "    <tr>\n",
              "      <th>8</th>\n",
              "      <td>8</td>\n",
              "      <td>7834</td>\n",
              "      <td>1999</td>\n",
              "      <td>43917.53</td>\n",
              "      <td>1</td>\n",
              "      <td>21</td>\n",
              "      <td>12607.56956</td>\n",
              "    </tr>\n",
              "    <tr>\n",
              "      <th>9</th>\n",
              "      <td>9</td>\n",
              "      <td>14913</td>\n",
              "      <td>2003</td>\n",
              "      <td>107860.41</td>\n",
              "      <td>1</td>\n",
              "      <td>17</td>\n",
              "      <td>24000.08742</td>\n",
              "    </tr>\n",
              "  </tbody>\n",
              "</table>\n",
              "</div>"
            ],
            "text/plain": [
              "   Unnamed: 0  milhas_por_ano  ...  idade_do_modelo   km_por_ano\n",
              "0           0           21801  ...               20  35085.22134\n",
              "1           1            7843  ...               22  12622.05362\n",
              "2           2            7109  ...               14  11440.79806\n",
              "3           3           26823  ...                5  43167.32682\n",
              "4           4            7935  ...                6  12770.11290\n",
              "5           5           14661  ...               13  23594.53374\n",
              "6           6            9990  ...               18  16077.30660\n",
              "7           7           11599  ...               12  18666.73466\n",
              "8           8            7834  ...               21  12607.56956\n",
              "9           9           14913  ...               17  24000.08742\n",
              "\n",
              "[10 rows x 7 columns]"
            ]
          },
          "metadata": {
            "tags": []
          },
          "execution_count": 117
        }
      ]
    },
    {
      "cell_type": "code",
      "metadata": {
        "id": "kT3KvWc1P4Oo",
        "outputId": "af78568f-2e76-400a-aec1-48fb33455bd0",
        "colab": {
          "base_uri": "https://localhost:8080/",
          "height": 204
        }
      },
      "source": [
        "dados = dados.drop(columns=['Unnamed: 0',\"milhas_por_ano\",\"ano_do_modelo\"],axis = 1)\n",
        "dados.head()"
      ],
      "execution_count": null,
      "outputs": [
        {
          "output_type": "execute_result",
          "data": {
            "text/html": [
              "<div>\n",
              "<style scoped>\n",
              "    .dataframe tbody tr th:only-of-type {\n",
              "        vertical-align: middle;\n",
              "    }\n",
              "\n",
              "    .dataframe tbody tr th {\n",
              "        vertical-align: top;\n",
              "    }\n",
              "\n",
              "    .dataframe thead th {\n",
              "        text-align: right;\n",
              "    }\n",
              "</style>\n",
              "<table border=\"1\" class=\"dataframe\">\n",
              "  <thead>\n",
              "    <tr style=\"text-align: right;\">\n",
              "      <th></th>\n",
              "      <th>preco</th>\n",
              "      <th>vendido</th>\n",
              "      <th>idade_do_modelo</th>\n",
              "      <th>km_por_ano</th>\n",
              "    </tr>\n",
              "  </thead>\n",
              "  <tbody>\n",
              "    <tr>\n",
              "      <th>0</th>\n",
              "      <td>30941.02</td>\n",
              "      <td>1</td>\n",
              "      <td>20</td>\n",
              "      <td>35085.22134</td>\n",
              "    </tr>\n",
              "    <tr>\n",
              "      <th>1</th>\n",
              "      <td>40557.96</td>\n",
              "      <td>1</td>\n",
              "      <td>22</td>\n",
              "      <td>12622.05362</td>\n",
              "    </tr>\n",
              "    <tr>\n",
              "      <th>2</th>\n",
              "      <td>89627.50</td>\n",
              "      <td>0</td>\n",
              "      <td>14</td>\n",
              "      <td>11440.79806</td>\n",
              "    </tr>\n",
              "    <tr>\n",
              "      <th>3</th>\n",
              "      <td>95276.14</td>\n",
              "      <td>0</td>\n",
              "      <td>5</td>\n",
              "      <td>43167.32682</td>\n",
              "    </tr>\n",
              "    <tr>\n",
              "      <th>4</th>\n",
              "      <td>117384.68</td>\n",
              "      <td>1</td>\n",
              "      <td>6</td>\n",
              "      <td>12770.11290</td>\n",
              "    </tr>\n",
              "  </tbody>\n",
              "</table>\n",
              "</div>"
            ],
            "text/plain": [
              "       preco  vendido  idade_do_modelo   km_por_ano\n",
              "0   30941.02        1               20  35085.22134\n",
              "1   40557.96        1               22  12622.05362\n",
              "2   89627.50        0               14  11440.79806\n",
              "3   95276.14        0                5  43167.32682\n",
              "4  117384.68        1                6  12770.11290"
            ]
          },
          "metadata": {
            "tags": []
          },
          "execution_count": 118
        }
      ]
    },
    {
      "cell_type": "code",
      "metadata": {
        "id": "nImdOxM6QLJa",
        "outputId": "9617e6b9-1d7a-40d4-b6ed-c131be3ea6ad",
        "colab": {
          "base_uri": "https://localhost:8080/",
          "height": 88
        }
      },
      "source": [
        "x = dados[[\"preco\",\"idade_do_modelo\",\"km_por_ano\"]]\n",
        "y = dados['vendido']\n",
        "SEED = 20\n",
        "np.random.seed(SEED)\n",
        "treino_x,teste_x,treino_y,teste_y=train_test_split(x,y,random_state= SEED,test_size= 0.25,stratify=y)\n",
        "\n",
        "modelo = LinearSVC()\n",
        "modelo.fit(treino_x, treino_y)\n",
        "previsoes =  modelo.predict(teste_x)\n",
        "acuracia = accuracy_score(teste_y,previsoes) * 100\n",
        "print(\"A acurácia foi %.2f\" % acuracia)\n"
      ],
      "execution_count": null,
      "outputs": [
        {
          "output_type": "stream",
          "text": [
            "A acurácia foi 58.32\n"
          ],
          "name": "stdout"
        },
        {
          "output_type": "stream",
          "text": [
            "/usr/local/lib/python3.6/dist-packages/sklearn/svm/_base.py:947: ConvergenceWarning: Liblinear failed to converge, increase the number of iterations.\n",
            "  \"the number of iterations.\", ConvergenceWarning)\n"
          ],
          "name": "stderr"
        }
      ]
    },
    {
      "cell_type": "code",
      "metadata": {
        "id": "o2uJqztxQY8X",
        "outputId": "79597c00-a956-4792-a58f-4424e0f5d82d",
        "colab": {
          "base_uri": "https://localhost:8080/",
          "height": 88
        }
      },
      "source": [
        "from sklearn.dummy import DummyClassifier\n",
        "dummy = DummyClassifier()\n",
        "dummy = LinearSVC()\n",
        "dummy.fit(treino_x, treino_y)\n",
        "acuracia= dummy.score(teste_x,teste_y) * 100\n",
        "print(\"A acurácia foi %.2f\" % acuracia)\n"
      ],
      "execution_count": null,
      "outputs": [
        {
          "output_type": "stream",
          "text": [
            "A acurácia foi 58.00\n"
          ],
          "name": "stdout"
        },
        {
          "output_type": "stream",
          "text": [
            "/usr/local/lib/python3.6/dist-packages/sklearn/svm/_base.py:947: ConvergenceWarning: Liblinear failed to converge, increase the number of iterations.\n",
            "  \"the number of iterations.\", ConvergenceWarning)\n"
          ],
          "name": "stderr"
        }
      ]
    },
    {
      "cell_type": "code",
      "metadata": {
        "id": "jUrHHCouRhzB"
      },
      "source": [
        ""
      ],
      "execution_count": null,
      "outputs": []
    },
    {
      "cell_type": "markdown",
      "metadata": {
        "id": "ZcoGrBlWW3qE"
      },
      "source": [
        "# Árvore de decisão "
      ]
    },
    {
      "cell_type": "code",
      "metadata": {
        "id": "vFl0zhkzW6Q7",
        "outputId": "5dd971ac-b4f7-40bb-b3f5-df8feba0c995",
        "colab": {
          "base_uri": "https://localhost:8080/",
          "height": 34
        }
      },
      "source": [
        "from sklearn.preprocessing import StandardScaler\n",
        "from sklearn.model_selection import train_test_split\n",
        "from sklearn.tree import DecisionTreeClassifier\n",
        "from sklearn.metrics import accuracy_score\n",
        "SEED = 5\n",
        "np.random.seed(SEED)\n",
        "raw_treino_x,raw_teste_x,treino_y,teste_y = train_test_split(x,y,test_size = 0.25,stratify = y)\n",
        "modelo = DecisionTreeClassifier(max_depth=3)\n",
        "modelo.fit(raw_treino_x,treino_y)\n",
        "previsoes = modelo.predict(raw_teste_x)\n",
        "acuracia = accuracy_score(teste_y,previsoes)*100\n",
        "print(\"A acurácia foi %.2f\" % acuracia)\n"
      ],
      "execution_count": null,
      "outputs": [
        {
          "output_type": "stream",
          "text": [
            "A acurácia foi 79.28\n"
          ],
          "name": "stdout"
        }
      ]
    },
    {
      "cell_type": "code",
      "metadata": {
        "id": "k6IVttY-YmMM",
        "outputId": "3dedc3fe-05ba-41bd-e7b2-845ec2893a5f",
        "colab": {
          "base_uri": "https://localhost:8080/",
          "height": 618
        }
      },
      "source": [
        "from sklearn.tree import export_graphviz\n",
        "import graphviz\n",
        "features = x.columns \n",
        "dot_data=export_graphviz(modelo,out_file= None,feature_names=features,filled= True, rounded=True,class_names=[\"não\",\"sim\"])\n",
        "grafico = graphviz.Source(dot_data)\n",
        "grafico"
      ],
      "execution_count": null,
      "outputs": [
        {
          "output_type": "execute_result",
          "data": {
            "text/plain": [
              "<graphviz.files.Source at 0x7f697a76e518>"
            ],
            "image/svg+xml": "<?xml version=\"1.0\" encoding=\"UTF-8\" standalone=\"no\"?>\n<!DOCTYPE svg PUBLIC \"-//W3C//DTD SVG 1.1//EN\"\n \"http://www.w3.org/Graphics/SVG/1.1/DTD/svg11.dtd\">\n<!-- Generated by graphviz version 2.40.1 (20161225.0304)\n -->\n<!-- Title: Tree Pages: 1 -->\n<svg width=\"894pt\" height=\"433pt\"\n viewBox=\"0.00 0.00 894.00 433.00\" xmlns=\"http://www.w3.org/2000/svg\" xmlns:xlink=\"http://www.w3.org/1999/xlink\">\n<g id=\"graph0\" class=\"graph\" transform=\"scale(1 1) rotate(0) translate(4 429)\">\n<title>Tree</title>\n<polygon fill=\"#ffffff\" stroke=\"transparent\" points=\"-4,4 -4,-429 890,-429 890,4 -4,4\"/>\n<!-- 0 -->\n<g id=\"node1\" class=\"node\">\n<title>0</title>\n<path fill=\"#c8e4f8\" stroke=\"#000000\" d=\"M372.5,-425C372.5,-425 247.5,-425 247.5,-425 241.5,-425 235.5,-419 235.5,-413 235.5,-413 235.5,-354 235.5,-354 235.5,-348 241.5,-342 247.5,-342 247.5,-342 372.5,-342 372.5,-342 378.5,-342 384.5,-348 384.5,-354 384.5,-354 384.5,-413 384.5,-413 384.5,-419 378.5,-425 372.5,-425\"/>\n<text text-anchor=\"middle\" x=\"310\" y=\"-409.8\" font-family=\"Helvetica,sans-Serif\" font-size=\"14.00\" fill=\"#000000\">preco &lt;= 59999.074</text>\n<text text-anchor=\"middle\" x=\"310\" y=\"-394.8\" font-family=\"Helvetica,sans-Serif\" font-size=\"14.00\" fill=\"#000000\">gini = 0.487</text>\n<text text-anchor=\"middle\" x=\"310\" y=\"-379.8\" font-family=\"Helvetica,sans-Serif\" font-size=\"14.00\" fill=\"#000000\">samples = 7500</text>\n<text text-anchor=\"middle\" x=\"310\" y=\"-364.8\" font-family=\"Helvetica,sans-Serif\" font-size=\"14.00\" fill=\"#000000\">value = [3150, 4350]</text>\n<text text-anchor=\"middle\" x=\"310\" y=\"-349.8\" font-family=\"Helvetica,sans-Serif\" font-size=\"14.00\" fill=\"#000000\">class = sim</text>\n</g>\n<!-- 1 -->\n<g id=\"node2\" class=\"node\">\n<title>1</title>\n<path fill=\"#52aae8\" stroke=\"#000000\" d=\"M277.5,-306C277.5,-306 154.5,-306 154.5,-306 148.5,-306 142.5,-300 142.5,-294 142.5,-294 142.5,-235 142.5,-235 142.5,-229 148.5,-223 154.5,-223 154.5,-223 277.5,-223 277.5,-223 283.5,-223 289.5,-229 289.5,-235 289.5,-235 289.5,-294 289.5,-294 289.5,-300 283.5,-306 277.5,-306\"/>\n<text text-anchor=\"middle\" x=\"216\" y=\"-290.8\" font-family=\"Helvetica,sans-Serif\" font-size=\"14.00\" fill=\"#000000\">preco &lt;= 40070.154</text>\n<text text-anchor=\"middle\" x=\"216\" y=\"-275.8\" font-family=\"Helvetica,sans-Serif\" font-size=\"14.00\" fill=\"#000000\">gini = 0.202</text>\n<text text-anchor=\"middle\" x=\"216\" y=\"-260.8\" font-family=\"Helvetica,sans-Serif\" font-size=\"14.00\" fill=\"#000000\">samples = 3248</text>\n<text text-anchor=\"middle\" x=\"216\" y=\"-245.8\" font-family=\"Helvetica,sans-Serif\" font-size=\"14.00\" fill=\"#000000\">value = [370, 2878]</text>\n<text text-anchor=\"middle\" x=\"216\" y=\"-230.8\" font-family=\"Helvetica,sans-Serif\" font-size=\"14.00\" fill=\"#000000\">class = sim</text>\n</g>\n<!-- 0&#45;&gt;1 -->\n<g id=\"edge1\" class=\"edge\">\n<title>0&#45;&gt;1</title>\n<path fill=\"none\" stroke=\"#000000\" d=\"M277.1234,-341.8796C270.0803,-332.9633 262.5707,-323.4565 255.3126,-314.268\"/>\n<polygon fill=\"#000000\" stroke=\"#000000\" points=\"257.9621,-311.9757 249.017,-306.2981 252.4691,-316.3147 257.9621,-311.9757\"/>\n<text text-anchor=\"middle\" x=\"246.1027\" y=\"-327.4276\" font-family=\"Helvetica,sans-Serif\" font-size=\"14.00\" fill=\"#000000\">True</text>\n</g>\n<!-- 6 -->\n<g id=\"node7\" class=\"node\">\n<title>6</title>\n<path fill=\"#f3c4a2\" stroke=\"#000000\" d=\"M540,-306C540,-306 372,-306 372,-306 366,-306 360,-300 360,-294 360,-294 360,-235 360,-235 360,-229 366,-223 372,-223 372,-223 540,-223 540,-223 546,-223 552,-229 552,-235 552,-235 552,-294 552,-294 552,-300 546,-306 540,-306\"/>\n<text text-anchor=\"middle\" x=\"456\" y=\"-290.8\" font-family=\"Helvetica,sans-Serif\" font-size=\"14.00\" fill=\"#000000\">km_por_ano &lt;= 24112.741</text>\n<text text-anchor=\"middle\" x=\"456\" y=\"-275.8\" font-family=\"Helvetica,sans-Serif\" font-size=\"14.00\" fill=\"#000000\">gini = 0.453</text>\n<text text-anchor=\"middle\" x=\"456\" y=\"-260.8\" font-family=\"Helvetica,sans-Serif\" font-size=\"14.00\" fill=\"#000000\">samples = 4252</text>\n<text text-anchor=\"middle\" x=\"456\" y=\"-245.8\" font-family=\"Helvetica,sans-Serif\" font-size=\"14.00\" fill=\"#000000\">value = [2780, 1472]</text>\n<text text-anchor=\"middle\" x=\"456\" y=\"-230.8\" font-family=\"Helvetica,sans-Serif\" font-size=\"14.00\" fill=\"#000000\">class = não</text>\n</g>\n<!-- 0&#45;&gt;6 -->\n<g id=\"edge6\" class=\"edge\">\n<title>0&#45;&gt;6</title>\n<path fill=\"none\" stroke=\"#000000\" d=\"M361.0637,-341.8796C372.5555,-332.513 384.8468,-322.4948 396.645,-312.8784\"/>\n<polygon fill=\"#000000\" stroke=\"#000000\" points=\"399.1782,-315.329 404.7183,-306.2981 394.7556,-309.903 399.1782,-315.329\"/>\n<text text-anchor=\"middle\" x=\"402.1843\" y=\"-327.4693\" font-family=\"Helvetica,sans-Serif\" font-size=\"14.00\" fill=\"#000000\">False</text>\n</g>\n<!-- 2 -->\n<g id=\"node3\" class=\"node\">\n<title>2</title>\n<path fill=\"#399de5\" stroke=\"#000000\" d=\"M112,-179.5C112,-179.5 12,-179.5 12,-179.5 6,-179.5 0,-173.5 0,-167.5 0,-167.5 0,-123.5 0,-123.5 0,-117.5 6,-111.5 12,-111.5 12,-111.5 112,-111.5 112,-111.5 118,-111.5 124,-117.5 124,-123.5 124,-123.5 124,-167.5 124,-167.5 124,-173.5 118,-179.5 112,-179.5\"/>\n<text text-anchor=\"middle\" x=\"62\" y=\"-164.3\" font-family=\"Helvetica,sans-Serif\" font-size=\"14.00\" fill=\"#000000\">gini = 0.0</text>\n<text text-anchor=\"middle\" x=\"62\" y=\"-149.3\" font-family=\"Helvetica,sans-Serif\" font-size=\"14.00\" fill=\"#000000\">samples = 1441</text>\n<text text-anchor=\"middle\" x=\"62\" y=\"-134.3\" font-family=\"Helvetica,sans-Serif\" font-size=\"14.00\" fill=\"#000000\">value = [0, 1441]</text>\n<text text-anchor=\"middle\" x=\"62\" y=\"-119.3\" font-family=\"Helvetica,sans-Serif\" font-size=\"14.00\" fill=\"#000000\">class = sim</text>\n</g>\n<!-- 1&#45;&gt;2 -->\n<g id=\"edge2\" class=\"edge\">\n<title>1&#45;&gt;2</title>\n<path fill=\"none\" stroke=\"#000000\" d=\"M162.1383,-222.8796C146.7696,-211.0038 130.0453,-198.0804 114.7441,-186.2568\"/>\n<polygon fill=\"#000000\" stroke=\"#000000\" points=\"116.4605,-183.1599 106.4076,-179.8149 112.1804,-188.699 116.4605,-183.1599\"/>\n</g>\n<!-- 3 -->\n<g id=\"node4\" class=\"node\">\n<title>3</title>\n<path fill=\"#6cb6ec\" stroke=\"#000000\" d=\"M277.5,-187C277.5,-187 154.5,-187 154.5,-187 148.5,-187 142.5,-181 142.5,-175 142.5,-175 142.5,-116 142.5,-116 142.5,-110 148.5,-104 154.5,-104 154.5,-104 277.5,-104 277.5,-104 283.5,-104 289.5,-110 289.5,-116 289.5,-116 289.5,-175 289.5,-175 289.5,-181 283.5,-187 277.5,-187\"/>\n<text text-anchor=\"middle\" x=\"216\" y=\"-171.8\" font-family=\"Helvetica,sans-Serif\" font-size=\"14.00\" fill=\"#000000\">preco &lt;= 40723.646</text>\n<text text-anchor=\"middle\" x=\"216\" y=\"-156.8\" font-family=\"Helvetica,sans-Serif\" font-size=\"14.00\" fill=\"#000000\">gini = 0.326</text>\n<text text-anchor=\"middle\" x=\"216\" y=\"-141.8\" font-family=\"Helvetica,sans-Serif\" font-size=\"14.00\" fill=\"#000000\">samples = 1807</text>\n<text text-anchor=\"middle\" x=\"216\" y=\"-126.8\" font-family=\"Helvetica,sans-Serif\" font-size=\"14.00\" fill=\"#000000\">value = [370, 1437]</text>\n<text text-anchor=\"middle\" x=\"216\" y=\"-111.8\" font-family=\"Helvetica,sans-Serif\" font-size=\"14.00\" fill=\"#000000\">class = sim</text>\n</g>\n<!-- 1&#45;&gt;3 -->\n<g id=\"edge3\" class=\"edge\">\n<title>1&#45;&gt;3</title>\n<path fill=\"none\" stroke=\"#000000\" d=\"M216,-222.8796C216,-214.6838 216,-205.9891 216,-197.5013\"/>\n<polygon fill=\"#000000\" stroke=\"#000000\" points=\"219.5001,-197.298 216,-187.2981 212.5001,-197.2981 219.5001,-197.298\"/>\n</g>\n<!-- 4 -->\n<g id=\"node5\" class=\"node\">\n<title>4</title>\n<path fill=\"#9acdf2\" stroke=\"#000000\" d=\"M116,-68C116,-68 24,-68 24,-68 18,-68 12,-62 12,-56 12,-56 12,-12 12,-12 12,-6 18,0 24,0 24,0 116,0 116,0 122,0 128,-6 128,-12 128,-12 128,-56 128,-56 128,-62 122,-68 116,-68\"/>\n<text text-anchor=\"middle\" x=\"70\" y=\"-52.8\" font-family=\"Helvetica,sans-Serif\" font-size=\"14.00\" fill=\"#000000\">gini = 0.441</text>\n<text text-anchor=\"middle\" x=\"70\" y=\"-37.8\" font-family=\"Helvetica,sans-Serif\" font-size=\"14.00\" fill=\"#000000\">samples = 61</text>\n<text text-anchor=\"middle\" x=\"70\" y=\"-22.8\" font-family=\"Helvetica,sans-Serif\" font-size=\"14.00\" fill=\"#000000\">value = [20, 41]</text>\n<text text-anchor=\"middle\" x=\"70\" y=\"-7.8\" font-family=\"Helvetica,sans-Serif\" font-size=\"14.00\" fill=\"#000000\">class = sim</text>\n</g>\n<!-- 3&#45;&gt;4 -->\n<g id=\"edge4\" class=\"edge\">\n<title>3&#45;&gt;4</title>\n<path fill=\"none\" stroke=\"#000000\" d=\"M161.635,-103.9815C148.9989,-94.3313 135.5644,-84.0714 122.9885,-74.4673\"/>\n<polygon fill=\"#000000\" stroke=\"#000000\" points=\"124.9372,-71.5515 114.8654,-68.2637 120.6886,-77.1148 124.9372,-71.5515\"/>\n</g>\n<!-- 5 -->\n<g id=\"node6\" class=\"node\">\n<title>5</title>\n<path fill=\"#6bb6ec\" stroke=\"#000000\" d=\"M274,-68C274,-68 158,-68 158,-68 152,-68 146,-62 146,-56 146,-56 146,-12 146,-12 146,-6 152,0 158,0 158,0 274,0 274,0 280,0 286,-6 286,-12 286,-12 286,-56 286,-56 286,-62 280,-68 274,-68\"/>\n<text text-anchor=\"middle\" x=\"216\" y=\"-52.8\" font-family=\"Helvetica,sans-Serif\" font-size=\"14.00\" fill=\"#000000\">gini = 0.321</text>\n<text text-anchor=\"middle\" x=\"216\" y=\"-37.8\" font-family=\"Helvetica,sans-Serif\" font-size=\"14.00\" fill=\"#000000\">samples = 1746</text>\n<text text-anchor=\"middle\" x=\"216\" y=\"-22.8\" font-family=\"Helvetica,sans-Serif\" font-size=\"14.00\" fill=\"#000000\">value = [350, 1396]</text>\n<text text-anchor=\"middle\" x=\"216\" y=\"-7.8\" font-family=\"Helvetica,sans-Serif\" font-size=\"14.00\" fill=\"#000000\">class = sim</text>\n</g>\n<!-- 3&#45;&gt;5 -->\n<g id=\"edge5\" class=\"edge\">\n<title>3&#45;&gt;5</title>\n<path fill=\"none\" stroke=\"#000000\" d=\"M216,-103.9815C216,-95.618 216,-86.7965 216,-78.3409\"/>\n<polygon fill=\"#000000\" stroke=\"#000000\" points=\"219.5001,-78.2636 216,-68.2637 212.5001,-78.2637 219.5001,-78.2636\"/>\n</g>\n<!-- 7 -->\n<g id=\"node8\" class=\"node\">\n<title>7</title>\n<path fill=\"#fcf0e7\" stroke=\"#000000\" d=\"M518.5,-187C518.5,-187 393.5,-187 393.5,-187 387.5,-187 381.5,-181 381.5,-175 381.5,-175 381.5,-116 381.5,-116 381.5,-110 387.5,-104 393.5,-104 393.5,-104 518.5,-104 518.5,-104 524.5,-104 530.5,-110 530.5,-116 530.5,-116 530.5,-175 530.5,-175 530.5,-181 524.5,-187 518.5,-187\"/>\n<text text-anchor=\"middle\" x=\"456\" y=\"-171.8\" font-family=\"Helvetica,sans-Serif\" font-size=\"14.00\" fill=\"#000000\">preco &lt;= 99974.41</text>\n<text text-anchor=\"middle\" x=\"456\" y=\"-156.8\" font-family=\"Helvetica,sans-Serif\" font-size=\"14.00\" fill=\"#000000\">gini = 0.498</text>\n<text text-anchor=\"middle\" x=\"456\" y=\"-141.8\" font-family=\"Helvetica,sans-Serif\" font-size=\"14.00\" fill=\"#000000\">samples = 2649</text>\n<text text-anchor=\"middle\" x=\"456\" y=\"-126.8\" font-family=\"Helvetica,sans-Serif\" font-size=\"14.00\" fill=\"#000000\">value = [1409, 1240]</text>\n<text text-anchor=\"middle\" x=\"456\" y=\"-111.8\" font-family=\"Helvetica,sans-Serif\" font-size=\"14.00\" fill=\"#000000\">class = não</text>\n</g>\n<!-- 6&#45;&gt;7 -->\n<g id=\"edge7\" class=\"edge\">\n<title>6&#45;&gt;7</title>\n<path fill=\"none\" stroke=\"#000000\" d=\"M456,-222.8796C456,-214.6838 456,-205.9891 456,-197.5013\"/>\n<polygon fill=\"#000000\" stroke=\"#000000\" points=\"459.5001,-197.298 456,-187.2981 452.5001,-197.2981 459.5001,-197.298\"/>\n</g>\n<!-- 10 -->\n<g id=\"node11\" class=\"node\">\n<title>10</title>\n<path fill=\"#e9965b\" stroke=\"#000000\" d=\"M743.5,-187C743.5,-187 612.5,-187 612.5,-187 606.5,-187 600.5,-181 600.5,-175 600.5,-175 600.5,-116 600.5,-116 600.5,-110 606.5,-104 612.5,-104 612.5,-104 743.5,-104 743.5,-104 749.5,-104 755.5,-110 755.5,-116 755.5,-116 755.5,-175 755.5,-175 755.5,-181 749.5,-187 743.5,-187\"/>\n<text text-anchor=\"middle\" x=\"678\" y=\"-171.8\" font-family=\"Helvetica,sans-Serif\" font-size=\"14.00\" fill=\"#000000\">preco &lt;= 100076.957</text>\n<text text-anchor=\"middle\" x=\"678\" y=\"-156.8\" font-family=\"Helvetica,sans-Serif\" font-size=\"14.00\" fill=\"#000000\">gini = 0.248</text>\n<text text-anchor=\"middle\" x=\"678\" y=\"-141.8\" font-family=\"Helvetica,sans-Serif\" font-size=\"14.00\" fill=\"#000000\">samples = 1603</text>\n<text text-anchor=\"middle\" x=\"678\" y=\"-126.8\" font-family=\"Helvetica,sans-Serif\" font-size=\"14.00\" fill=\"#000000\">value = [1371, 232]</text>\n<text text-anchor=\"middle\" x=\"678\" y=\"-111.8\" font-family=\"Helvetica,sans-Serif\" font-size=\"14.00\" fill=\"#000000\">class = não</text>\n</g>\n<!-- 6&#45;&gt;10 -->\n<g id=\"edge10\" class=\"edge\">\n<title>6&#45;&gt;10</title>\n<path fill=\"none\" stroke=\"#000000\" d=\"M533.6448,-222.8796C552.3186,-212.8697 572.3809,-202.1156 591.4328,-191.9031\"/>\n<polygon fill=\"#000000\" stroke=\"#000000\" points=\"593.2389,-194.9062 600.399,-187.0969 589.9318,-188.7366 593.2389,-194.9062\"/>\n</g>\n<!-- 8 -->\n<g id=\"node9\" class=\"node\">\n<title>8</title>\n<path fill=\"#f9e0cf\" stroke=\"#000000\" d=\"M432,-68C432,-68 316,-68 316,-68 310,-68 304,-62 304,-56 304,-56 304,-12 304,-12 304,-6 310,0 316,0 316,0 432,0 432,0 438,0 444,-6 444,-12 444,-12 444,-56 444,-56 444,-62 438,-68 432,-68\"/>\n<text text-anchor=\"middle\" x=\"374\" y=\"-52.8\" font-family=\"Helvetica,sans-Serif\" font-size=\"14.00\" fill=\"#000000\">gini = 0.49</text>\n<text text-anchor=\"middle\" x=\"374\" y=\"-37.8\" font-family=\"Helvetica,sans-Serif\" font-size=\"14.00\" fill=\"#000000\">samples = 2223</text>\n<text text-anchor=\"middle\" x=\"374\" y=\"-22.8\" font-family=\"Helvetica,sans-Serif\" font-size=\"14.00\" fill=\"#000000\">value = [1266, 957]</text>\n<text text-anchor=\"middle\" x=\"374\" y=\"-7.8\" font-family=\"Helvetica,sans-Serif\" font-size=\"14.00\" fill=\"#000000\">class = não</text>\n</g>\n<!-- 7&#45;&gt;8 -->\n<g id=\"edge8\" class=\"edge\">\n<title>7&#45;&gt;8</title>\n<path fill=\"none\" stroke=\"#000000\" d=\"M425.4662,-103.9815C418.8424,-94.9747 411.8279,-85.4367 405.1795,-76.3965\"/>\n<polygon fill=\"#000000\" stroke=\"#000000\" points=\"407.9426,-74.2461 399.1984,-68.2637 402.3034,-78.3933 407.9426,-74.2461\"/>\n</g>\n<!-- 9 -->\n<g id=\"node10\" class=\"node\">\n<title>9</title>\n<path fill=\"#9dcff2\" stroke=\"#000000\" d=\"M582,-68C582,-68 474,-68 474,-68 468,-68 462,-62 462,-56 462,-56 462,-12 462,-12 462,-6 468,0 474,0 474,0 582,0 582,0 588,0 594,-6 594,-12 594,-12 594,-56 594,-56 594,-62 588,-68 582,-68\"/>\n<text text-anchor=\"middle\" x=\"528\" y=\"-52.8\" font-family=\"Helvetica,sans-Serif\" font-size=\"14.00\" fill=\"#000000\">gini = 0.446</text>\n<text text-anchor=\"middle\" x=\"528\" y=\"-37.8\" font-family=\"Helvetica,sans-Serif\" font-size=\"14.00\" fill=\"#000000\">samples = 426</text>\n<text text-anchor=\"middle\" x=\"528\" y=\"-22.8\" font-family=\"Helvetica,sans-Serif\" font-size=\"14.00\" fill=\"#000000\">value = [143, 283]</text>\n<text text-anchor=\"middle\" x=\"528\" y=\"-7.8\" font-family=\"Helvetica,sans-Serif\" font-size=\"14.00\" fill=\"#000000\">class = sim</text>\n</g>\n<!-- 7&#45;&gt;9 -->\n<g id=\"edge9\" class=\"edge\">\n<title>7&#45;&gt;9</title>\n<path fill=\"none\" stroke=\"#000000\" d=\"M482.8101,-103.9815C488.5669,-95.0666 494.6596,-85.6313 500.4441,-76.6734\"/>\n<polygon fill=\"#000000\" stroke=\"#000000\" points=\"503.3901,-78.5631 505.8746,-68.2637 497.5096,-74.7658 503.3901,-78.5631\"/>\n</g>\n<!-- 11 -->\n<g id=\"node12\" class=\"node\">\n<title>11</title>\n<path fill=\"#e68742\" stroke=\"#000000\" d=\"M732,-68C732,-68 624,-68 624,-68 618,-68 612,-62 612,-56 612,-56 612,-12 612,-12 612,-6 618,0 624,0 624,0 732,0 732,0 738,0 744,-6 744,-12 744,-12 744,-56 744,-56 744,-62 738,-68 732,-68\"/>\n<text text-anchor=\"middle\" x=\"678\" y=\"-52.8\" font-family=\"Helvetica,sans-Serif\" font-size=\"14.00\" fill=\"#000000\">gini = 0.086</text>\n<text text-anchor=\"middle\" x=\"678\" y=\"-37.8\" font-family=\"Helvetica,sans-Serif\" font-size=\"14.00\" fill=\"#000000\">samples = 1356</text>\n<text text-anchor=\"middle\" x=\"678\" y=\"-22.8\" font-family=\"Helvetica,sans-Serif\" font-size=\"14.00\" fill=\"#000000\">value = [1295, 61]</text>\n<text text-anchor=\"middle\" x=\"678\" y=\"-7.8\" font-family=\"Helvetica,sans-Serif\" font-size=\"14.00\" fill=\"#000000\">class = não</text>\n</g>\n<!-- 10&#45;&gt;11 -->\n<g id=\"edge11\" class=\"edge\">\n<title>10&#45;&gt;11</title>\n<path fill=\"none\" stroke=\"#000000\" d=\"M678,-103.9815C678,-95.618 678,-86.7965 678,-78.3409\"/>\n<polygon fill=\"#000000\" stroke=\"#000000\" points=\"681.5001,-78.2636 678,-68.2637 674.5001,-78.2637 681.5001,-78.2636\"/>\n</g>\n<!-- 12 -->\n<g id=\"node13\" class=\"node\">\n<title>12</title>\n<path fill=\"#91c9f1\" stroke=\"#000000\" d=\"M874,-68C874,-68 774,-68 774,-68 768,-68 762,-62 762,-56 762,-56 762,-12 762,-12 762,-6 768,0 774,0 774,0 874,0 874,0 880,0 886,-6 886,-12 886,-12 886,-56 886,-56 886,-62 880,-68 874,-68\"/>\n<text text-anchor=\"middle\" x=\"824\" y=\"-52.8\" font-family=\"Helvetica,sans-Serif\" font-size=\"14.00\" fill=\"#000000\">gini = 0.426</text>\n<text text-anchor=\"middle\" x=\"824\" y=\"-37.8\" font-family=\"Helvetica,sans-Serif\" font-size=\"14.00\" fill=\"#000000\">samples = 247</text>\n<text text-anchor=\"middle\" x=\"824\" y=\"-22.8\" font-family=\"Helvetica,sans-Serif\" font-size=\"14.00\" fill=\"#000000\">value = [76, 171]</text>\n<text text-anchor=\"middle\" x=\"824\" y=\"-7.8\" font-family=\"Helvetica,sans-Serif\" font-size=\"14.00\" fill=\"#000000\">class = sim</text>\n</g>\n<!-- 10&#45;&gt;12 -->\n<g id=\"edge12\" class=\"edge\">\n<title>10&#45;&gt;12</title>\n<path fill=\"none\" stroke=\"#000000\" d=\"M732.365,-103.9815C745.0011,-94.3313 758.4356,-84.0714 771.0115,-74.4673\"/>\n<polygon fill=\"#000000\" stroke=\"#000000\" points=\"773.3114,-77.1148 779.1346,-68.2637 769.0628,-71.5515 773.3114,-77.1148\"/>\n</g>\n</g>\n</svg>\n"
          },
          "metadata": {
            "tags": []
          },
          "execution_count": 136
        }
      ]
    },
    {
      "cell_type": "code",
      "metadata": {
        "id": "3xK_z3beY4EV"
      },
      "source": [
        ""
      ],
      "execution_count": null,
      "outputs": []
    }
  ]
}